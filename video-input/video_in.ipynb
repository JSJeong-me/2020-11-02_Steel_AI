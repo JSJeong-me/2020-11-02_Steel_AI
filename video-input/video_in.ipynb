{
 "cells": [
  {
   "cell_type": "code",
   "execution_count": null,
   "metadata": {},
   "outputs": [],
   "source": []
  },
  {
   "cell_type": "code",
   "execution_count": 5,
   "metadata": {},
   "outputs": [],
   "source": [
    "import sys\n",
    "import cv2\n",
    "\n",
    "\n",
    "# 동영상 파일로부터 cv2.VideoCapture 객체 생성\n",
    "#cap = cv2.VideoCapture('vtest.avi')\n",
    "cap = cv2.VideoCapture('(source)20201009.mp4')\n",
    "\n",
    "if not cap.isOpened():\n",
    "    print(\"Camera open failed!\")\n",
    "    sys.exit()"
   ]
  },
  {
   "cell_type": "code",
   "execution_count": 6,
   "metadata": {},
   "outputs": [
    {
     "name": "stdout",
     "output_type": "stream",
     "text": [
      "Frame width: 1920\n",
      "Frame height: 1080\n",
      "Frame count: 318\n",
      "FPS: 30\n"
     ]
    }
   ],
   "source": [
    "# 프레임 해상도, 전체 프레임수, FPS 출력\n",
    "print('Frame width:', round(cap.get(cv2.CAP_PROP_FRAME_WIDTH)))\n",
    "print('Frame height:', round(cap.get(cv2.CAP_PROP_FRAME_HEIGHT)))\n",
    "print('Frame count:', round(cap.get(cv2.CAP_PROP_FRAME_COUNT)))\n",
    "\n",
    "fps = round(cap.get(cv2.CAP_PROP_FPS))\n",
    "print('FPS:', fps)"
   ]
  },
  {
   "cell_type": "code",
   "execution_count": 7,
   "metadata": {},
   "outputs": [],
   "source": [
    "delay = round(1000 / fps)\n",
    "\n",
    "# 매 프레임 처리 및 화면 출력\n",
    "while True:\n",
    "    ret, frame = cap.read()\n",
    "\n",
    "    if not ret:\n",
    "        break\n",
    "\n",
    "    edge = cv2.Canny(frame, 50, 150)\n",
    "\n",
    "    cv2.imshow('frame', frame)\n",
    "#    cv2.imshow('edge', edge)\n",
    "\n",
    "    if cv2.waitKey(delay) == 27:\n",
    "        break"
   ]
  },
  {
   "cell_type": "code",
   "execution_count": 8,
   "metadata": {},
   "outputs": [],
   "source": [
    "# 자원 해제\n",
    "cap.release()\n",
    "cv2.destroyAllWindows()"
   ]
  },
  {
   "cell_type": "code",
   "execution_count": null,
   "metadata": {},
   "outputs": [],
   "source": []
  }
 ],
 "metadata": {
  "kernelspec": {
   "display_name": "Python 3",
   "language": "python",
   "name": "python3"
  },
  "language_info": {
   "codemirror_mode": {
    "name": "ipython",
    "version": 3
   },
   "file_extension": ".py",
   "mimetype": "text/x-python",
   "name": "python",
   "nbconvert_exporter": "python",
   "pygments_lexer": "ipython3",
   "version": "3.7.6"
  }
 },
 "nbformat": 4,
 "nbformat_minor": 4
}
